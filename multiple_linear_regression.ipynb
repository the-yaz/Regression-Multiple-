{
  "nbformat": 4,
  "nbformat_minor": 0,
  "metadata": {
    "colab": {
      "name": "Copie de Copie de multiple_linear_regression.ipynb",
      "provenance": [],
      "collapsed_sections": []
    },
    "kernelspec": {
      "name": "python3",
      "display_name": "Python 3"
    }
  },
  "cells": [
    {
      "cell_type": "markdown",
      "metadata": {
        "id": "CazISR8X_HUG"
      },
      "source": [
        "# Multiple Linear Regression"
      ]
    },
    {
      "cell_type": "markdown",
      "source": [
        "# Outils de prétraitement des données"
      ],
      "metadata": {
        "id": "2ZMZqzXiHt7c"
      }
    },
    {
      "cell_type": "markdown",
      "metadata": {
        "id": "pOyqYHTk_Q57"
      },
      "source": [
        "## Importing the libraries"
      ]
    },
    {
      "cell_type": "code",
      "metadata": {
        "id": "T_YHJjnD_Tja"
      },
      "source": [
        "import numpy as np\n",
        "import matplotlib.pyplot as plt\n",
        "import pandas as pd"
      ],
      "execution_count": 19,
      "outputs": []
    },
    {
      "cell_type": "markdown",
      "metadata": {
        "id": "vgC61-ah_WIz"
      },
      "source": [
        "## Importing the dataset"
      ]
    },
    {
      "cell_type": "code",
      "metadata": {
        "id": "UrxyEKGn_ez7"
      },
      "source": [
        "dataset = pd.read_csv('/content/Mincer.csv')"
      ],
      "execution_count": 20,
      "outputs": []
    },
    {
      "cell_type": "code",
      "source": [
        "dataset.drop(['inlf','hours','kidslt6','kidsge6','repwage','hushrs','husage','huseduc','huswage','faminc','mtr','unem','city','nwifeinc','lwage','lwage','expersq'],1,inplace=True)"
      ],
      "metadata": {
        "colab": {
          "base_uri": "https://localhost:8080/"
        },
        "id": "FO0F4fnIwabT",
        "outputId": "94580b2c-35b0-4589-fd5a-ccfb24decc83"
      },
      "execution_count": 21,
      "outputs": [
        {
          "output_type": "stream",
          "name": "stderr",
          "text": [
            "/usr/local/lib/python3.7/dist-packages/ipykernel_launcher.py:1: FutureWarning: In a future version of pandas all arguments of DataFrame.drop except for the argument 'labels' will be keyword-only\n",
            "  \"\"\"Entry point for launching an IPython kernel.\n"
          ]
        }
      ]
    },
    {
      "cell_type": "code",
      "source": [
        "print(dataset['wage'])"
      ],
      "metadata": {
        "id": "daLU2cMEx9iM",
        "colab": {
          "base_uri": "https://localhost:8080/"
        },
        "outputId": "de8940cd-e46c-4870-dc63-ef8e70a74034"
      },
      "execution_count": 22,
      "outputs": [
        {
          "output_type": "stream",
          "name": "stdout",
          "text": [
            "0      3.3540\n",
            "1      1.3889\n",
            "2      4.5455\n",
            "3      1.0965\n",
            "4      4.5918\n",
            "        ...  \n",
            "748       NaN\n",
            "749       NaN\n",
            "750       NaN\n",
            "751       NaN\n",
            "752       NaN\n",
            "Name: wage, Length: 753, dtype: float64\n"
          ]
        }
      ]
    },
    {
      "cell_type": "code",
      "source": [
        "dataset.shape"
      ],
      "metadata": {
        "id": "n3bqumohtDY_",
        "colab": {
          "base_uri": "https://localhost:8080/"
        },
        "outputId": "d4d7d66c-329b-458d-cf96-e23d4a43b5e4"
      },
      "execution_count": 23,
      "outputs": [
        {
          "output_type": "execute_result",
          "data": {
            "text/plain": [
              "(753, 6)"
            ]
          },
          "metadata": {},
          "execution_count": 23
        }
      ]
    },
    {
      "cell_type": "code",
      "source": [
        "print(type(dataset))\n",
        "#dataset=dataset.dropna().shape\n",
        "dataset=pd.DataFrame(dataset)"
      ],
      "metadata": {
        "id": "Wy2Miwl69end",
        "colab": {
          "base_uri": "https://localhost:8080/"
        },
        "outputId": "ede73d6a-00c1-4bac-99e7-713d412701b5"
      },
      "execution_count": 24,
      "outputs": [
        {
          "output_type": "stream",
          "name": "stdout",
          "text": [
            "<class 'pandas.core.frame.DataFrame'>\n"
          ]
        }
      ]
    },
    {
      "cell_type": "code",
      "source": [
        "age2=[]\n",
        "for i in dataset['age']:\n",
        "  age2.append(i*i)\n",
        "print(age2)\n",
        "dataset['age2']=age2"
      ],
      "metadata": {
        "id": "nW3C_iZJswqb",
        "colab": {
          "base_uri": "https://localhost:8080/"
        },
        "outputId": "8dd91825-9e02-437c-e111-f34b83af54f8"
      },
      "execution_count": 25,
      "outputs": [
        {
          "output_type": "stream",
          "name": "stdout",
          "text": [
            "[1024, 900, 1225, 1156, 961, 2916, 1369, 2916, 2304, 1521, 1089, 1764, 900, 1849, 1849, 1225, 1849, 1521, 2025, 1225, 1764, 900, 2304, 2025, 961, 1849, 3481, 1024, 961, 1764, 2500, 3481, 1296, 2601, 2025, 1764, 2116, 2116, 2601, 900, 900, 3249, 961, 2304, 900, 1156, 2304, 2025, 2601, 900, 2116, 3364, 1369, 2704, 2704, 961, 3025, 1156, 3025, 1521, 1600, 1849, 2304, 2209, 1681, 1296, 2116, 1156, 1681, 2601, 1089, 2704, 3364, 1156, 961, 2304, 1024, 2401, 1024, 3364, 2500, 3600, 2500, 3136, 2601, 2916, 3481, 2116, 2116, 1521, 1936, 1089, 1089, 2304, 961, 2025, 2025, 1024, 2209, 1156, 1369, 1296, 2209, 2304, 1764, 1089, 2116, 2209, 1936, 1296, 961, 3025, 2025, 2209, 2116, 2401, 2401, 2025, 1444, 2209, 2916, 1681, 1849, 961, 2209, 1225, 2025, 1089, 2916, 1225, 961, 3025, 1156, 1444, 2025, 2209, 1521, 1296, 1089, 2500, 3364, 2401, 1681, 2601, 2809, 1296, 2116, 1296, 2809, 1600, 1764, 1089, 1849, 961, 2209, 2916, 1089, 1849, 2116, 1225, 1369, 1369, 1156, 1849, 2116, 1225, 2116, 2116, 1849, 900, 1681, 2916, 961, 1936, 1024, 2209, 2116, 1369, 2601, 2401, 1296, 1521, 2304, 1444, 1600, 1521, 1369, 2401, 1089, 900, 2916, 1521, 1849, 961, 1089, 1600, 1296, 2601, 1936, 1764, 1600, 1156, 900, 2916, 2601, 1936, 1849, 1156, 2025, 1521, 2500, 2704, 1681, 3481, 2704, 2116, 1681, 1089, 2025, 1296, 2304, 2209, 2025, 1369, 2116, 1849, 1764, 1156, 2704, 1369, 1369, 2704, 900, 961, 1444, 1849, 2401, 3025, 1444, 2704, 2304, 1024, 1024, 1444, 2116, 1600, 961, 1849, 2601, 900, 2704, 900, 2601, 961, 1156, 2401, 1225, 2809, 1024, 1444, 2916, 2209, 2025, 2209, 3481, 1024, 2025, 1600, 2209, 1296, 3136, 1681, 2304, 1296, 1681, 1681, 1296, 1369, 1444, 1849, 2916, 1444, 900, 2401, 2025, 2601, 1156, 1156, 1681, 2401, 1024, 1024, 1024, 2209, 1521, 2401, 1369, 3481, 2500, 1024, 2116, 1849, 1369, 1024, 1521, 1156, 1521, 2025, 2500, 1600, 900, 3249, 1521, 2809, 2304, 2116, 2209, 1849, 2209, 2209, 2209, 2116, 1156, 2304, 900, 2601, 2704, 1369, 1024, 1296, 1225, 2025, 3136, 1600, 2025, 1024, 2025, 1600, 1444, 2401, 2209, 2704, 1156, 1936, 1296, 2500, 2025, 1936, 3249, 1225, 2116, 900, 1764, 1156, 2025, 1225, 1600, 1024, 2916, 1444, 1849, 2916, 1521, 1369, 2116, 3136, 1681, 2025, 1936, 2500, 1369, 1936, 1024, 1156, 1024, 1369, 1936, 1156, 1089, 1849, 1225, 1849, 1156, 1296, 1681, 1681, 1225, 1024, 900, 1849, 2916, 1225, 2500, 1156, 2704, 1225, 3025, 1225, 2401, 1444, 1764, 2304, 2601, 1849, 1849, 1444, 1936, 1296, 1444, 2209, 1156, 1600, 961, 2116, 1296, 1521, 1296, 1369, 1521, 1296, 2401, 2025, 1024, 1296, 1600, 1849, 1089, 900, 2401, 900, 900, 1681, 2025, 1849, 1764, 3600, 3249, 1444, 3136, 1024, 2401, 3025, 1296, 1936, 1936, 1225, 1936, 2025, 1156, 900, 1521, 1296, 1444, 2809, 1296, 1024, 2601, 1444, 1089, 2916, 1444, 900, 1156, 1156, 2500, 900, 1444, 2916, 900, 3025, 2601, 1936, 2809, 1764, 1444, 1444, 1681, 1225, 1089, 2304, 2209, 1156, 1089, 961, 3364, 2401, 3025, 1936, 1936, 1296, 1444, 1369, 2209, 2209, 1024, 1849, 1764, 3136, 1444, 2704, 2500, 1089, 1936, 1681, 2025, 2809, 2809, 1764, 1024, 3136, 1369, 1600, 2916, 2809, 2304, 1296, 3249, 2601, 1089, 2704, 3136, 1296, 1296, 2116, 961, 2704, 2116, 1225, 3481, 1296, 2601, 961, 961, 1024, 1225, 1600, 1089, 2916, 1296, 2500, 2916, 2304, 1681, 2500, 2116, 1764, 961, 2809, 2601, 2209, 2500, 1369, 900, 2401, 2704, 2209, 2401, 1936, 2809, 900, 2916, 2209, 3136, 2401, 2304, 2401, 3136, 2116, 2025, 1024, 1849, 1156, 900, 1444, 1089, 2704, 1849, 1089, 2025, 1296, 1156, 1369, 2116, 2209, 961, 3249, 900, 900, 1936, 2809, 2601, 1521, 2704, 2116, 2209, 2704, 2025, 3600, 1681, 1521, 2401, 1024, 1089, 1296, 1369, 900, 1936, 2304, 1600, 2209, 1296, 1600, 2116, 2704, 1936, 2025, 900, 1600, 1849, 2401, 2116, 2704, 961, 1764, 1089, 3249, 2401, 2025, 3136, 1681, 3136, 2304, 2704, 2601, 1225, 2025, 2916, 2916, 961, 2809, 1225, 1296, 3481, 2916, 1369, 1936, 1156, 2401, 2401, 3600, 2601, 900, 2209, 1296, 1225, 3364, 1681, 2601, 2209, 2025, 3600, 900, 3025, 1024, 1296, 3025, 2209, 2209, 1369, 2500, 900, 2304, 1849, 2304, 1681, 2500, 3364, 1444, 1369, 2500, 1764, 1369, 1681, 961, 2601, 1296, 2916, 2401, 2304, 1764, 1681, 3025, 1764, 1024, 1849, 1089, 2304, 1849, 2209, 2916, 2601, 2601, 1849, 2809, 1156, 961, 3136, 1764, 1024, 1225, 900, 2601, 2209, 2916, 961, 2209, 2209, 1600, 2304, 1156, 1444, 1024, 2304, 1681, 2401, 3481, 3364, 1681, 2025, 900, 1681, 900, 2809, 961, 1849, 961, 2601, 1849, 961, 2304, 961, 1936, 2304, 2809, 1764, 1521, 1024, 1296, 1600, 961, 1849, 3600, 1521]\n"
          ]
        }
      ]
    },
    {
      "cell_type": "code",
      "source": [
        "exper2=[]\n",
        "for i in dataset['fatheduc']:\n",
        "  exper2.append(i*i)\n",
        "print(exper2)\n",
        "dataset['exper2']=exper2"
      ],
      "metadata": {
        "id": "FcnJcj66A6KN",
        "colab": {
          "base_uri": "https://localhost:8080/"
        },
        "outputId": "500a511e-6128-4118-a2e7-1c6d79b8d6e3"
      },
      "execution_count": 26,
      "outputs": [
        {
          "output_type": "stream",
          "name": "stdout",
          "text": [
            "[49, 49, 49, 49, 196, 49, 49, 9, 49, 49, 9, 49, 256, 100, 49, 100, 49, 144, 49, 49, 256, 100, 9, 49, 49, 196, 49, 49, 144, 144, 49, 9, 100, 196, 144, 9, 9, 9, 49, 289, 144, 81, 256, 9, 49, 49, 256, 100, 49, 49, 49, 9, 49, 49, 9, 144, 49, 289, 49, 49, 9, 144, 49, 49, 49, 144, 256, 49, 49, 49, 144, 100, 81, 0, 100, 196, 49, 9, 144, 144, 49, 289, 9, 49, 49, 144, 49, 49, 144, 100, 0, 144, 100, 49, 49, 49, 9, 144, 49, 144, 49, 49, 100, 196, 49, 144, 49, 49, 100, 49, 144, 49, 49, 289, 49, 49, 49, 100, 100, 144, 49, 144, 49, 100, 49, 100, 49, 49, 49, 49, 49, 49, 256, 144, 49, 9, 49, 49, 49, 144, 49, 144, 144, 196, 49, 49, 49, 144, 144, 196, 100, 144, 49, 256, 49, 289, 9, 100, 81, 49, 9, 256, 144, 49, 49, 49, 144, 9, 49, 49, 49, 49, 100, 100, 49, 144, 289, 100, 49, 49, 144, 49, 144, 49, 49, 49, 49, 196, 49, 144, 49, 49, 144, 9, 49, 144, 144, 49, 49, 196, 144, 289, 289, 49, 49, 100, 49, 49, 49, 9, 0, 49, 144, 49, 49, 144, 49, 49, 144, 49, 49, 9, 49, 49, 100, 144, 49, 144, 49, 49, 49, 49, 144, 49, 49, 49, 49, 49, 196, 289, 49, 100, 49, 49, 144, 49, 49, 81, 49, 196, 49, 9, 256, 9, 256, 49, 256, 144, 49, 49, 144, 144, 144, 256, 49, 81, 49, 144, 144, 100, 49, 144, 49, 49, 9, 100, 289, 49, 9, 9, 144, 49, 49, 49, 100, 49, 100, 49, 81, 81, 144, 144, 144, 49, 81, 144, 49, 144, 49, 144, 144, 196, 49, 196, 100, 144, 49, 49, 144, 49, 49, 144, 144, 144, 144, 196, 100, 49, 49, 49, 49, 49, 49, 49, 49, 49, 144, 144, 49, 196, 100, 144, 49, 49, 144, 49, 100, 144, 100, 49, 196, 49, 144, 144, 49, 256, 0, 144, 49, 289, 49, 144, 9, 49, 196, 49, 144, 144, 49, 49, 196, 49, 144, 144, 49, 49, 49, 49, 9, 144, 49, 49, 196, 100, 100, 100, 100, 144, 9, 49, 256, 49, 49, 0, 49, 49, 100, 49, 144, 49, 49, 49, 49, 256, 144, 100, 49, 49, 256, 49, 49, 49, 144, 100, 100, 100, 49, 100, 144, 144, 49, 289, 144, 256, 100, 256, 49, 49, 81, 9, 49, 49, 49, 49, 49, 49, 256, 144, 144, 49, 144, 49, 49, 49, 49, 49, 9, 49, 144, 49, 49, 100, 49, 81, 196, 144, 100, 144, 289, 144, 9, 49, 144, 100, 49, 49, 49, 49, 100, 100, 9, 49, 144, 49, 49, 144, 49, 144, 144, 49, 100, 49, 49, 9, 49, 49, 9, 49, 144, 49, 100, 49, 100, 256, 49, 49, 9, 144, 49, 144, 196, 49, 49, 100, 49, 49, 100, 49, 49, 49, 144, 144, 49, 49, 144, 49, 144, 100, 289, 49, 49, 49, 49, 49, 49, 49, 49, 49, 0, 49, 49, 81, 144, 49, 49, 49, 49, 9, 49, 0, 9, 144, 144, 144, 49, 100, 49, 0, 144, 49, 0, 49, 289, 49, 49, 144, 9, 100, 9, 81, 144, 49, 144, 256, 0, 49, 49, 100, 81, 144, 100, 0, 49, 49, 49, 144, 256, 49, 144, 49, 49, 49, 100, 256, 256, 49, 196, 49, 49, 100, 144, 196, 49, 144, 144, 49, 100, 100, 144, 144, 49, 49, 9, 9, 49, 9, 196, 49, 49, 49, 49, 144, 144, 81, 0, 144, 144, 144, 49, 81, 49, 144, 49, 144, 144, 49, 9, 144, 144, 9, 144, 49, 100, 49, 196, 144, 100, 144, 49, 100, 9, 49, 100, 49, 49, 49, 49, 100, 49, 49, 196, 256, 49, 289, 49, 49, 144, 49, 49, 49, 49, 100, 49, 144, 49, 81, 144, 49, 49, 9, 196, 144, 9, 49, 49, 9, 9, 49, 49, 144, 49, 289, 100, 49, 49, 100, 9, 256, 144, 49, 9, 100, 289, 49, 49, 49, 256, 49, 144, 196, 256, 144, 49, 144, 49, 49, 196, 256, 144, 144, 9, 49, 100, 9, 49, 49, 49, 49, 196, 144, 196, 49, 49, 49, 100, 49, 49, 49, 9, 49, 100, 100, 49, 49, 0, 49, 49, 196, 100, 100, 49, 100, 49, 49, 144, 196, 9, 49, 256, 100, 49, 49, 49, 0, 9, 0, 9, 144, 100, 144, 9, 144, 49]\n"
          ]
        }
      ]
    },
    {
      "cell_type": "code",
      "source": [
        "last_column = dataset.pop('wage') \n",
        "dataset.insert(7, 'wage', last_column)"
      ],
      "metadata": {
        "id": "DQhTLePnipYU"
      },
      "execution_count": 27,
      "outputs": []
    },
    {
      "cell_type": "code",
      "source": [
        "dataset=dataset.dropna()\n",
        "dataset.columns "
      ],
      "metadata": {
        "colab": {
          "base_uri": "https://localhost:8080/"
        },
        "id": "bQVCvTgGcK5N",
        "outputId": "cb79db6a-7152-40e1-f321-645e90d5cd05"
      },
      "execution_count": 35,
      "outputs": [
        {
          "output_type": "execute_result",
          "data": {
            "text/plain": [
              "Index(['age', 'educ', 'motheduc', 'fatheduc', 'exper', 'age2', 'exper2',\n",
              "       'wage'],\n",
              "      dtype='object')"
            ]
          },
          "metadata": {},
          "execution_count": 35
        }
      ]
    },
    {
      "cell_type": "code",
      "source": [
        "import seaborn as sns\n",
        "sns.heatmap(dataset[['age', 'exper', 'age2', 'exper2','motheduc', 'fatheduc','wage']].corr(), cmap='Blues', annot=True)\n",
        "plt.show()"
      ],
      "metadata": {
        "colab": {
          "base_uri": "https://localhost:8080/",
          "height": 310
        },
        "id": "hsPCKtboHt-P",
        "outputId": "4d7c07d2-b25c-4850-a3c7-e10f6b59d9f9"
      },
      "execution_count": 36,
      "outputs": [
        {
          "output_type": "display_data",
          "data": {
            "text/plain": [
              "<Figure size 432x288 with 2 Axes>"
            ],
            "image/png": "[encoded data removed]"
          },
          "metadata": {
            "needs_background": "light"
          }
        }
      ]
    },
    {
      "cell_type": "code",
      "source": [
        "X = dataset.iloc[:, :-1].values\n",
        "y = dataset.iloc[:, -1].values\n",
        "print(y)"
      ],
      "metadata": {
        "id": "8k7OwqVnjGPh",
        "colab": {
          "base_uri": "https://localhost:8080/"
        },
        "outputId": "68b07c91-6190-4d1e-c7fe-6b1df62d0e17"
      },
      "execution_count": 29,
      "outputs": [
        {
          "output_type": "stream",
          "name": "stdout",
          "text": [
            "[ 3.35400009  1.38890004  4.5454998   1.09650004  4.59180021  4.74209976\n",
            "  8.33329964  7.84310007  2.12619996  4.6875      4.0630002   4.59180021\n",
            "  2.08330011  2.26679993  3.6796999   1.34720004  3.21429992  5.17500019\n",
            "  2.          7.55289984  3.50519991  3.57139993  3.25        3.25\n",
            "  2.15450001  3.78789997  4.          4.7269001   7.25589991  5.86709976\n",
            "  1.53849995  2.45900011  5.85109997  3.57139993  3.80679989  2.46379995\n",
            "  2.37529993  4.53509998  5.61829996 14.63099957  2.67860007  3.91939998\n",
            "  2.57290006  4.5374999   2.          3.47219992  2.01609993  4.57159996\n",
            "  2.27270007  2.63750005  2.28990006  1.09889996  1.17649996  1.60000002\n",
            "  1.87619996  4.04370022  9.63539982  8.04090023  4.59899998  2.14289999\n",
            "  4.4000001   3.53539991  2.71740007  6.25       11.93299961  3.59310007\n",
            "  6.94439983  2.91669989  3.07690001  3.75        5.72590017  3.67569995\n",
            "  5.16480017  8.22369957  4.33650017  4.98190022  0.35710001  2.96740007\n",
            "  1.          2.55539989  0.86019999  1.          2.92610002  3.5460999\n",
            "  1.62639999  8.33329964  3.09520006  2.70000005  5.25209999  1.41540003\n",
            "  4.7986002   1.66670001  1.12170005  0.5         0.71429998  2.7960999\n",
            "  4.85830021  1.74349999  2.46309996  2.42129993  1.5345      2.88179994\n",
            "  2.40689993  5.23260021  3.75        1.38890004  4.          3.23130012\n",
            "  3.40140009  1.33329999  9.30230045  4.5         4.62349987  3.95569992\n",
            "  5.81400013  0.5         4.08160019  6.          3.66669989  3.86129999\n",
            "  2.76290011  2.93099999  4.38840008  5.41669989  9.8611002   0.16159999\n",
            "  0.38260001  3.63639998  2.37470007  4.66669989  1.85189998  5.19999981\n",
            "  3.29859996  8.5333004   2.06349993  2.56410003  2.1875      6.25\n",
            "  3.33330011  4.44439983  6.6335001   8.42240047  4.39559984  2.44569993\n",
            "  1.22449994  1.625       3.          4.7269001   1.1293      7.40240002\n",
            "  4.45949984  2.47250009  1.88240004  4.          8.18999958  7.09679985\n",
            "  1.66670001  3.44499993  4.2347002   2.77780008  1.88919997  5.03520012\n",
            "  1.25        2.85710001  4.11670017  1.77779996 13.5539999   4.56269979\n",
            "  2.12770009  2.98909998  2.56539989  5.61219978  2.80539989  1.60699999\n",
            "  2.25        2.03250003  5.53200006  1.58449996  3.78789997  3.\n",
            "  8.65380001  4.21049976  4.6875      4.09840012 25.          2.63310003\n",
            "  6.          5.41260004  0.66420001  1.25        2.27539992  3.46149993\n",
            "  4.16669989  4.46869993  1.75        3.66939998  6.58260012  2.5999999\n",
            "  4.86509991  5.78700018  4.54080009  9.50570011 10.63799953  1.11109996\n",
            "  4.05410004  2.68709993  2.9762001   3.17280006  3.54999995 17.90699959\n",
            "  3.41739988  3.33330011  3.88599992  2.31110001  1.71080005  2.11430001\n",
            "  9.93309975  3.02769995  1.86049998  0.12819999  6.63269997  5.63910007\n",
            "  1.59899998  2.66669989  7.92080021  5.33979988  4.          6.04489994\n",
            "  6.25        2.9762001   4.23390007  3.49160004  4.96449995  2.76920009\n",
            "  3.65849996  5.39349985  0.65640002  4.76879978  8.55510044 10.45899963\n",
            "  2.63750005  6.84929991  5.08720016  0.96149999  4.30660009  7.06669998\n",
            "  2.52530003  7.89470005  4.14890003  8.17459965  9.59710026  2.0164001\n",
            "  7.62179995  3.19749999  1.60000002  4.09840012  1.48150003  3.63639998\n",
            "  1.          2.60419989  1.75        4.80000019  5.53000021  4.09840012\n",
            "  1.25        1.66670001  3.7901001   2.36360002 10.20400047  6.81820011\n",
            "  7.21460009  2.44840002  1.19869995  1.64100003  1.78209996  2.94120002\n",
            "  4.9689002   1.86049998  8.03569984  3.97160006  3.04159999  2.90700006\n",
            "  3.0611999   4.89659977  4.01609993  5.55560017  1.2227      2.68390012\n",
            "  2.67379999  9.32940006  3.13809991  0.54259998  8.6111002   3.66869998\n",
            "  2.31850004  2.88199997  3.16659999  3.64580011  6.25       10.2489996\n",
            "  3.20959997  7.65220022  1.97239995  4.69799995  2.12339997  2.33330011\n",
            "  2.38960004  1.25639999  1.09379995  3.75        3.30719995  5.13520002\n",
            "  6.63269997  4.56449986 11.84799957  3.75        4.36509991  3.93330002\n",
            "  3.33330011  3.31590009  3.56159997  1.60000002  2.22550011  4.78719997\n",
            "  5.80649996  2.3585      2.          1.89999998  5.12300014  5.49450016\n",
            "  6.32180023  7.14289999  2.375       2.54290009  2.17980003  2.5999999\n",
            "  3.72939992  4.375       4.44329977  4.28770018  1.66670001  3.25580001\n",
            "  5.41130018  2.20499992  4.0625      0.64819998  5.38259983  0.1709\n",
            " 23.46699905  9.57849979  3.6947999   2.22219992  1.74899995  1.15939999\n",
            "  6.99009991  3.9683001  21.42900085  0.47620001  2.15050006  1.85780001\n",
            "  4.3295002   8.92860031  2.77780008  2.6565001   2.5        18.2670002\n",
            "  0.81900001  2.         15.38500023  6.47749996  8.33329964  4.55030012\n",
            "  2.49580002  4.47970009  2.23239994  2.0710001   1.676       3.40910006\n",
            "  2.5         3.96090007  6.22749996  3.92860007  2.9000001   4.08160019\n",
            "  2.8499999   7.0152998   2.9388001   1.92309999  6.875       3.90019989\n",
            "  2.          4.97629976  1.20190001 22.5         6.8677001   3.56130004\n",
            "  1.97920001  5.37130022  1.74419999  5.0948      2.5         3.82500005\n",
            "  1.          3.0717001   1.71630001  4.02089977  5.45849991 25.\n",
            "  2.38969994  3.21339989  3.37700009  1.77779996  3.16330004  2.7026999\n",
            "  1.69270003  0.2137      6.76690006  1.74070001  2.5         4.48589993\n",
            "  2.57200003  3.46000004  4.78259993  2.3118      5.30609989  5.86749983\n",
            "  3.40910006  4.08160019]\n"
          ]
        }
      ]
    },
    {
      "cell_type": "code",
      "metadata": {
        "id": "Kb_v_ae-A-20",
        "colab": {
          "base_uri": "https://localhost:8080/"
        },
        "outputId": "7c676003-f6e9-4a4e-fdd1-f7573aadd94f"
      },
      "source": [
        "from sklearn.model_selection import train_test_split\n",
        "X_train, X_test, y_train, y_test = train_test_split(X, y, test_size = 0.2, random_state = 0)\n",
        "print(X_train)"
      ],
      "execution_count": 30,
      "outputs": [
        {
          "output_type": "stream",
          "name": "stdout",
          "text": [
            "[[  49   11    7 ...   14 2401   49]\n",
            " [  34   12    7 ...   14 1156   49]\n",
            " [  37   12   10 ...    4 1369   49]\n",
            " ...\n",
            " [  45   12    7 ...    9 2025  100]\n",
            " [  45   12   10 ...   22 2025  100]\n",
            " [  31   12   10 ...   10  961  100]]\n"
          ]
        }
      ]
    },
    {
      "cell_type": "code",
      "source": [
        "print(y_train)\n"
      ],
      "metadata": {
        "colab": {
          "base_uri": "https://localhost:8080/"
        },
        "id": "q6rCRtQ-YuFC",
        "outputId": "ef151348-d171-4c96-d8a2-6d6acb72d9a6"
      },
      "execution_count": 31,
      "outputs": [
        {
          "output_type": "stream",
          "name": "stdout",
          "text": [
            "[ 4.09840012  3.37700009  2.9762001   4.74209976  4.08160019  0.66420001\n",
            "  1.74419999  7.84310007  4.54080009  3.25        3.07690001  4.56449986\n",
            "  3.50519991  2.56410003  1.19869995  3.6796999   4.3295002   0.47620001\n",
            "  6.63269997  8.03569984  4.39559984  4.98190022 11.93299961  4.04370022\n",
            "  1.          2.38960004  2.          4.97629976  3.67569995  2.5\n",
            "  2.68390012  3.0611999  25.          4.69799995  5.30609989  3.44499993\n",
            "  9.63539982  2.12619996  3.49160004  4.11670017  3.29859996  2.76920009\n",
            " 10.45899963  4.89659977  4.          2.90700006  6.25        2.88199997\n",
            "  0.81900001  2.0710001   3.92860007  1.41540003  2.52530003  2.3118\n",
            "  4.09840012  6.63269997  1.12170005  3.19749999  5.39349985  3.31590009\n",
            "  2.20499992  3.02769995  6.94439983  1.25        7.0152998   6.6335001\n",
            "  2.88179994  2.          6.84929991  2.22219992  5.17500019  3.\n",
            "  3.54999995  9.59710026  1.53849995  5.81400013  5.61219978  5.23260021\n",
            "  2.9762001   2.9388001   3.          4.08160019  2.12770009  3.9683001\n",
            "  2.76290011  2.68709993  4.62349987  7.06669998  2.1875      6.25\n",
            "  0.38260001  2.6565001   2.22550011  2.          8.5333004   3.57139993\n",
            "  4.02089977  1.25        3.80679989  6.76690006  1.74349999  8.33329964\n",
            "  3.53539991  4.56269979  1.60699999  4.80000019  3.75        4.48589993\n",
            "  2.5         0.65640002  3.40140009  5.12300014  2.01609993  0.64819998\n",
            "  2.31110001  1.60000002  8.22369957  6.25        2.38969994  4.96449995\n",
            "  8.55510044  5.86709976  4.21049976  5.13520002  1.89999998  1.09889996\n",
            "  1.15939999  3.96090007  2.5         4.7269001   4.5454998   7.89470005\n",
            "  1.66670001  2.63750005  3.0717001   3.66869998  3.33330011  3.88599992\n",
            "  3.75        8.17459965  3.64580011  7.65220022  2.11430001  7.14289999\n",
            "  1.25        1.71080005  2.46379995  4.23390007  4.05410004  3.65849996\n",
            "  4.01609993  3.41739988  2.91669989  2.15450001  1.92309999  9.93309975\n",
            "  2.          3.66669989  2.66669989  4.66669989  0.5         4.5\n",
            " 13.5539999   3.20959997  6.8677001   3.16659999  2.67860007  2.\n",
            "  1.25639999  2.55539989 10.20400047  4.9689002   2.26679993  1.74899995\n",
            "  4.78259993  6.25        5.03520012  3.5460999   5.86749983  1.\n",
            "  9.30230045  7.40240002  1.88240004  3.21429992  2.23239994  1.33329999\n",
            "  1.97239995  4.44439983  4.76879978  1.75        1.09379995  4.0625\n",
            "  4.14890003  2.375       7.55289984  6.81820011  4.          6.32180023\n",
            "  1.09650004 10.2489996   0.16159999  3.04159999  1.2227      2.96740007\n",
            " 25.          9.57849979  5.45849991  2.94120002  2.31850004  2.49580002\n",
            "  4.6875      4.08160019  0.86019999  1.          4.59180021  2.77780008\n",
            "  3.09520006  3.7901001   2.37529993  3.21339989  4.59899998  3.91939998\n",
            "  7.21460009  2.28990006 17.90699959  3.25580001  1.66670001 21.42900085\n",
            "  5.41669989  1.59899998  2.71740007  2.3585      1.85189998  5.41260004\n",
            "  3.25        4.5374999   3.35400009  9.50570011 18.2670002   2.46309996\n",
            "  2.12339997  0.2137      3.78789997  1.48150003  0.71429998  1.77779996\n",
            "  2.7960999   2.5         2.98909998  3.75        2.33330011  2.27270007\n",
            "  3.17280006  3.97160006  6.04489994  1.1293      2.44569993  2.17980003\n",
            "  8.65380001  5.19999981  2.8499999   3.40910006  5.53000021  5.80649996\n",
            "  1.11109996  1.62639999  2.93099999  4.55030012 22.5         1.66670001\n",
            "  2.92610002  2.36360002  3.86129999  2.15050006  0.54259998  8.04090023\n",
            "  1.60000002  3.63639998  2.9000001   2.57290006  1.38890004  3.56130004\n",
            "  1.64100003  6.22749996  5.61829996  1.60000002  4.47970009  2.37470007\n",
            "  3.13809991  7.25589991  4.09840012  8.33329964  2.85710001  2.47250009\n",
            "  4.30660009 10.63799953  2.45900011  5.85109997  3.63639998  2.63310003\n",
            "  5.0948      2.67379999  3.90019989  4.7269001   5.55560017  5.37130022\n",
            "  1.58449996  2.42129993  4.44329977  2.5999999   2.5999999   0.96149999\n",
            "  0.5         1.66670001  5.16480017  2.54290009  3.78789997  1.77779996\n",
            "  4.375       3.16330004  2.25        1.69270003 14.63099957  4.46869993\n",
            " 11.84799957  1.97920001  5.25209999  5.72590017  2.70000005  8.6111002\n",
            "  5.08720016  1.86049998  3.33330011  4.6875      1.85780001  3.66939998\n",
            "  2.0164001   4.78719997  4.16669989  6.          4.57159996  2.80539989]\n"
          ]
        }
      ]
    },
    {
      "cell_type": "markdown",
      "source": [
        "#supprimmer les NA"
      ],
      "metadata": {
        "id": "epNX2ChLbSb9"
      }
    },
    {
      "cell_type": "markdown",
      "metadata": {
        "id": "k-McZVsQBINc"
      },
      "source": [
        "## Training the Multiple Linear Regression model on the Training set"
      ]
    },
    {
      "cell_type": "code",
      "metadata": {
        "id": "ywPjx0L1BMiD",
        "colab": {
          "base_uri": "https://localhost:8080/"
        },
        "outputId": "46e653ea-05db-40c7-f083-1ad857f0eacd"
      },
      "source": [
        "from sklearn.linear_model import LinearRegression\n",
        "reg = LinearRegression().fit(X_train, y_train)\n",
        "coefs = reg.fit(X_train, y_train).coef_\n",
        "intecept = reg .fit(X_train, y_train).intercept_\n",
        "print(intecept , coefs)"
      ],
      "execution_count": 32,
      "outputs": [
        {
          "output_type": "stream",
          "name": "stdout",
          "text": [
            "-4.343301882704624 [ 0.19574978  0.46285543 -0.06225286 -0.22366609  0.0384735  -0.00259535\n",
            "  0.01358347]\n"
          ]
        }
      ]
    },
    {
      "cell_type": "markdown",
      "metadata": {
        "id": "xNkXL1YQBiBT"
      },
      "source": [
        "## Predicting the Test set results"
      ]
    },
    {
      "cell_type": "code",
      "metadata": {
        "id": "TQKmwvtdBkyb",
        "colab": {
          "base_uri": "https://localhost:8080/"
        },
        "outputId": "1fb7cbd4-7702-44bc-eb8d-0fcfa545a559"
      },
      "source": [
        "y_pred = reg.predict(X_test)\n",
        "np.set_printoptions(precision=8)\n",
        "print(np.concatenate((y_pred.reshape(len(y_pred),1), y_test.reshape(len(y_test),1)),1))"
      ],
      "execution_count": 33,
      "outputs": [
        {
          "output_type": "stream",
          "name": "stdout",
          "text": [
            "[[ 4.15871052  1.78209996]\n",
            " [ 3.97026199  2.77780008]\n",
            " [ 3.76998392  1.87619996]\n",
            " [ 2.870819    3.30719995]\n",
            " [ 4.12568597  4.0630002 ]\n",
            " [ 7.03216806 15.38500023]\n",
            " [ 6.78987429  5.53200006]\n",
            " [ 6.33891473  5.49450016]\n",
            " [ 2.82910047  2.60419989]\n",
            " [ 3.29728669  2.27539992]\n",
            " [ 3.54549769  3.57139993]\n",
            " [ 4.05650347  4.36509991]\n",
            " [ 3.17320083  4.38840008]\n",
            " [ 3.77452901  3.46000004]\n",
            " [ 4.03980891  5.63910007]\n",
            " [ 5.92876762  7.62179995]\n",
            " [ 6.3716284   6.99009991]\n",
            " [ 2.4845371   0.12819999]\n",
            " [ 3.4926395   3.33330011]\n",
            " [ 1.51693813  3.82500005]\n",
            " [ 5.68747425  5.38259983]\n",
            " [ 3.33542209  3.46149993]\n",
            " [ 4.27273055  3.6947999 ]\n",
            " [ 3.60416235  1.38890004]\n",
            " [ 3.70395421  4.53509998]\n",
            " [ 3.04235906  2.06349993]\n",
            " [ 2.02962813  3.59310007]\n",
            " [ 4.76139831  4.2347002 ]\n",
            " [ 3.54906805  3.75      ]\n",
            " [ 3.65030233  2.08330011]\n",
            " [ 3.81400727  1.75      ]\n",
            " [ 5.6820819   6.        ]\n",
            " [ 1.86729422  1.74070001]\n",
            " [ 3.88085082  3.56159997]\n",
            " [ 4.15372443  4.86509991]\n",
            " [ 5.88733997  8.18999958]\n",
            " [ 4.70295716  4.85830021]\n",
            " [ 3.64744437  3.93330002]\n",
            " [ 4.3857735   0.1709    ]\n",
            " [ 4.17399282  1.86049998]\n",
            " [ 3.79076938  9.32940006]\n",
            " [ 5.97145095  4.        ]\n",
            " [ 4.90878219  8.92860031]\n",
            " [ 5.6038056   7.92080021]\n",
            " [ 2.89194242  1.34720004]\n",
            " [ 3.88946278  4.28770018]\n",
            " [ 5.12480733  4.4000001 ]\n",
            " [ 3.40117342  2.56539989]\n",
            " [ 4.15036438  6.58260012]\n",
            " [ 6.83937353  3.95569992]\n",
            " [ 3.73556877  2.57200003]\n",
            " [ 5.55042769  3.40910006]\n",
            " [ 5.40368217  8.33329964]\n",
            " [ 4.97915298  4.7986002 ]\n",
            " [ 6.08180627  4.45949984]\n",
            " [ 3.76342308  3.72939992]\n",
            " [ 3.71024195  2.40689993]\n",
            " [ 3.55841742  0.35710001]\n",
            " [ 3.91525378  1.676     ]\n",
            " [ 3.47810976  1.625     ]\n",
            " [ 5.60509096  5.78700018]\n",
            " [ 3.48140429  2.14289999]\n",
            " [ 2.67749768 23.46699905]\n",
            " [ 4.01198824  1.71630001]\n",
            " [ 4.92322871  2.7026999 ]\n",
            " [ 0.62059436  2.03250003]\n",
            " [ 5.20163875  1.        ]\n",
            " [ 2.47432379  2.44840002]\n",
            " [ 6.48778325  8.42240047]\n",
            " [ 4.66002252  6.875     ]\n",
            " [ 6.3362327   7.09679985]\n",
            " [ 3.87302435  1.88919997]\n",
            " [ 4.34253285  3.23130012]\n",
            " [ 3.59743143  1.20190001]\n",
            " [ 4.43117591  5.41130018]\n",
            " [ 5.96428697  9.8611002 ]\n",
            " [ 3.33137154  2.63750005]\n",
            " [ 3.83066016  1.17649996]\n",
            " [ 3.97114216  4.33650017]\n",
            " [ 3.83161796  4.        ]\n",
            " [ 3.37301285  3.47219992]\n",
            " [ 2.24316131  1.22449994]\n",
            " [ 4.76409635  4.59180021]\n",
            " [ 5.89950333  5.33979988]\n",
            " [ 5.56200543  6.47749996]\n",
            " [ 3.33050463  1.5345    ]]\n"
          ]
        }
      ]
    },
    {
      "cell_type": "code",
      "source": [
        "# importing r2_score module\n",
        "from sklearn.metrics import r2_score\n",
        "from sklearn.metrics import mean_squared_error\n",
        "# predicting the accuracy score\n",
        "score=r2_score(y_test,y_pred)\n",
        "print('accuracy  socre is ',score)"
      ],
      "metadata": {
        "id": "XeTYKwMpWY2M",
        "colab": {
          "base_uri": "https://localhost:8080/"
        },
        "outputId": "738fd6fa-ecf3-4b18-a907-c83e332f01fd"
      },
      "execution_count": 34,
      "outputs": [
        {
          "output_type": "stream",
          "name": "stdout",
          "text": [
            "accuracy  socre is  0.155256039798373\n"
          ]
        }
      ]
    }
  ]
}